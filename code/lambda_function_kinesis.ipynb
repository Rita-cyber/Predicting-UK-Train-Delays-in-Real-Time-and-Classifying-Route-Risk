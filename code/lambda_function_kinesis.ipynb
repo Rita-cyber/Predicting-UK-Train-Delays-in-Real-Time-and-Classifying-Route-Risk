{
 "cells": [
  {
   "cell_type": "code",
   "execution_count": null,
   "id": "27c86b42-3391-4974-8cba-a30caa857d07",
   "metadata": {},
   "outputs": [],
   "source": [
    "def prepare_features(event):\n",
    "    # Extract meaningful features from the raw XML or parsed fields\n",
    "    features = {\n",
    "        \"msg_type\": event[\"msg_type\"],\n",
    "        # Add more features based on Darwin schema\n",
    "    }\n",
    "    return features\n",
    "\n",
    "def lambda_handler(event, context):\n",
    "    predictions_events = []\n",
    "\n",
    "    for record in event['Records']:\n",
    "        decoded_data = base64.b64decode(record['kinesis']['data']).decode('utf-8')\n",
    "        rail_event = json.loads(decoded_data)\n",
    "\n",
    "        features = prepare_features(rail_event)\n",
    "        prediction = predict([features])  # ensure it's wrapped in a list\n",
    "\n",
    "        output = {\n",
    "            'model': 'rail_event_classifier',\n",
    "            'prediction': prediction,\n",
    "            'event_type': rail_event.get(\"msg_type\"),\n",
    "            'ts': rail_event.get(\"ts\")\n",
    "        }\n",
    "\n",
    "        kinesis_client.put_record(\n",
    "            StreamName=os.getenv('PREDICTIONS_STREAM_NAME'),\n",
    "            Data=json.dumps(output),\n",
    "            PartitionKey=rail_event.get(\"ts\", \"default\")\n",
    "        )\n",
    "\n",
    "        predictions_events.append(output)\n",
    "\n",
    "    return {\"predictions\": predictions_events}\n"
   ]
  }
 ],
 "metadata": {
  "kernelspec": {
   "display_name": "Python 3 (ipykernel)",
   "language": "python",
   "name": "python3"
  },
  "language_info": {
   "codemirror_mode": {
    "name": "ipython",
    "version": 3
   },
   "file_extension": ".py",
   "mimetype": "text/x-python",
   "name": "python",
   "nbconvert_exporter": "python",
   "pygments_lexer": "ipython3",
   "version": "3.12.1"
  }
 },
 "nbformat": 4,
 "nbformat_minor": 5
}
